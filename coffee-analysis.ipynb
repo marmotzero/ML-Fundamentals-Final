{
 "cells": [
  {
   "cell_type": "markdown",
   "metadata": {},
   "source": [
    "Code Academy ML Fundamentals Portfolio Project\n",
    "\n",
    "Using the data from the Great American Coffee Taste Test. A group of people were sent 4 coffees and told to record data based on the taste. My goal is to use the data in reverse and see if the feedback from the tasters can be used to classify the 4 different coffees. \n",
    "\n",
    "Dataset is here: https://bit.ly/gacttCSV+\n",
    "\n",
    "A YouTube video with some explanation of the test is here: https://www.youtube.com/watch?v=1fN_z4-EcOU\n",
    "\n"
   ]
  },
  {
   "cell_type": "code",
   "execution_count": 46,
   "metadata": {},
   "outputs": [
    {
     "name": "stdout",
     "output_type": "stream",
     "text": [
      "Index(['Submission ID', 'Coffee A - Bitterness', 'Coffee A - Acidity',\n",
      "       'Coffee A - Personal Preference', 'Coffee B - Bitterness',\n",
      "       'Coffee B - Acidity', 'Coffee B - Personal Preference',\n",
      "       'Coffee C - Bitterness', 'Coffee C - Acidity',\n",
      "       'Coffee C - Personal Preference', 'Coffee D - Bitterness',\n",
      "       'Coffee D - Acidity', 'Coffee D - Personal Preference',\n",
      "       'Between Coffee A, Coffee B, and Coffee C which did you prefer?',\n",
      "       'Between Coffee A and Coffee D, which did you prefer?',\n",
      "       'Lastly, what was your favorite overall coffee?'],\n",
      "      dtype='object')\n"
     ]
    }
   ],
   "source": [
    "# Import Libraries\n",
    "\n",
    "import pandas as pd\n",
    "from sklearn.cluster import KMeans\n",
    "\n",
    "\n",
    "\n",
    "# Import the dataset from the CSV file which has been downloaded and added to the repo:\n",
    "coffee = pd.read_csv('GACTT_RESULTS_ANONYMIZED_v2.csv')\n",
    "coffee = coffee.drop(coffee.columns[1:70], axis=1)\n",
    "coffee = coffee.drop(coffee.columns[[4,8,12,16]], axis=1)\n",
    "coffee = coffee.drop(coffee.columns[16:], axis=1)\n",
    "print(coffee.columns)"
   ]
  },
  {
   "cell_type": "code",
   "execution_count": null,
   "metadata": {},
   "outputs": [],
   "source": []
  }
 ],
 "metadata": {
  "kernelspec": {
   "display_name": "Python 3",
   "language": "python",
   "name": "python3"
  },
  "language_info": {
   "codemirror_mode": {
    "name": "ipython",
    "version": 3
   },
   "file_extension": ".py",
   "mimetype": "text/x-python",
   "name": "python",
   "nbconvert_exporter": "python",
   "pygments_lexer": "ipython3",
   "version": "3.10.13"
  }
 },
 "nbformat": 4,
 "nbformat_minor": 2
}
